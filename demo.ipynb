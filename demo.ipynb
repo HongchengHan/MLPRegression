{
 "cells": [
  {
   "cell_type": "code",
   "execution_count": 8,
   "metadata": {},
   "outputs": [
    {
     "name": "stdout",
     "output_type": "stream",
     "text": [
      "   r_frac  mae_frac\n",
      "0       1         1\n",
      "(100,)\n",
      "[[1 4]\n",
      " [2 2]\n",
      " [3 5]]\n"
     ]
    }
   ],
   "source": [
    "import pandas as pd\n",
    "import numpy as np\n",
    "\n",
    "print(pd.DataFrame({'r_frac': [1], 'mae_frac': [1]}))\n",
    "print(np.array([0]*100).shape)\n",
    "\n",
    "a = np.array([1, 2, 3])\n",
    "b = np.array([4, 2, 5])\n",
    "print(np.stack((a, b), axis=1))"
   ]
  }
 ],
 "metadata": {
  "kernelspec": {
   "display_name": "Python 3.8.13 ('luliu')",
   "language": "python",
   "name": "python3"
  },
  "language_info": {
   "codemirror_mode": {
    "name": "ipython",
    "version": 3
   },
   "file_extension": ".py",
   "mimetype": "text/x-python",
   "name": "python",
   "nbconvert_exporter": "python",
   "pygments_lexer": "ipython3",
   "version": "3.8.13"
  },
  "orig_nbformat": 4,
  "vscode": {
   "interpreter": {
    "hash": "4ebb4956837553ce6594ce7068d255f516acc14f8c6a53ff4de21536caf393ea"
   }
  }
 },
 "nbformat": 4,
 "nbformat_minor": 2
}
