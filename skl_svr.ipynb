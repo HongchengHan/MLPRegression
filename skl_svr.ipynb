{
 "cells": [
  {
   "cell_type": "code",
   "execution_count": null,
   "metadata": {},
   "outputs": [],
   "source": []
  },
  {
   "cell_type": "code",
   "execution_count": 1,
   "metadata": {},
   "outputs": [],
   "source": [
    "import pandas as pd\n",
    "import numpy as np\n",
    "data_df = pd.read_csv('./data_all.csv')\n",
    "data_array = np.array(data_df)\n",
    "x_all = data_array[:, :3]\n",
    "y_all = data_array[:, 4]\n",
    "\n",
    "from sklearn.model_selection import  train_test_split\n",
    "x_train, x_valid, y_train, y_valid = train_test_split(x_all, y_all, test_size=0.3) #选取0.3的测试集\n",
    "x_test = np.array(pd.read_csv('./data_eval.csv'))[:, :3]\n",
    "y_test = np.array(pd.read_csv('./data_eval.csv'))[:, 4]"
   ]
  },
  {
   "cell_type": "code",
   "execution_count": 7,
   "metadata": {},
   "outputs": [],
   "source": [
    "from sklearn.svm import SVR\n",
    "from sklearn.model_selection import GridSearchCV #自动选择最佳模型 \n",
    "from sklearn.tree import DecisionTreeRegressor #决策树\n",
    "from sklearn.ensemble import RandomForestRegressor #随机森林\n",
    "from sklearn.linear_model import LinearRegression\n",
    "from sklearn.preprocessing import PolynomialFeatures\n",
    "import numpy as np\n",
    "import matplotlib.pyplot as plt\n",
    "\n",
    "# model_svr = GridSearchCV(SVR(), param_grid={\"kernel\": (\"linear\", 'rbf', 'sigmoid'), \"C\": np.logspace(-3, 3, 7), \"gamma\": np.logspace(-3, 3, 7)})\n",
    "model_svr = GridSearchCV(SVR(), param_grid={\"kernel\": ['poly'], \"C\": [1e0, 1e1, 1e2, 1e3], \"gamma\": np.logspace(-3, 3, 7)})\n",
    "model_svr.fit(x_train, y_train)\n",
    "\n",
    "# poly_reg = PolynomialFeatures(degree=6)\n",
    "# x_poly = poly_reg.fit_transform(x_train)\n",
    "# linear_reg = LinearRegression()\n",
    "# linear_reg.fit(x_poly, y_train)"
   ]
  },
  {
   "cell_type": "code",
   "execution_count": 6,
   "metadata": {},
   "outputs": [
    {
     "data": {
      "text/plain": [
       "274.120016175174"
      ]
     },
     "execution_count": 6,
     "metadata": {},
     "output_type": "execute_result"
    }
   ],
   "source": [
    "from sklearn.metrics import mean_absolute_error, mean_squared_error\n",
    "\n",
    "# y_pred = linear_reg.predict(poly_reg.fit_transform(x_test))\n",
    "y_pred = model_svr.predict(x_test)\n",
    "y_true = y_test\n",
    "mean_squared_error(y_pred, y_true)"
   ]
  }
 ],
 "metadata": {
  "kernelspec": {
   "display_name": "Python 3.8.13 ('luliu')",
   "language": "python",
   "name": "python3"
  },
  "language_info": {
   "codemirror_mode": {
    "name": "ipython",
    "version": 3
   },
   "file_extension": ".py",
   "mimetype": "text/x-python",
   "name": "python",
   "nbconvert_exporter": "python",
   "pygments_lexer": "ipython3",
   "version": "3.8.13"
  },
  "orig_nbformat": 4,
  "vscode": {
   "interpreter": {
    "hash": "4ebb4956837553ce6594ce7068d255f516acc14f8c6a53ff4de21536caf393ea"
   }
  }
 },
 "nbformat": 4,
 "nbformat_minor": 2
}
